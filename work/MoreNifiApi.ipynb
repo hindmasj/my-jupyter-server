{
 "cells": [
  {
   "cell_type": "code",
   "execution_count": 18,
   "id": "5040c2dd-c0ca-475c-a1a8-7adc324b8809",
   "metadata": {},
   "outputs": [],
   "source": [
    "import json\n",
    "import pprint\n",
    "\n",
    "class ApiObject:\n",
    "    def __init__(self,**kwargs):\n",
    "        self.__dict__.update(kwargs)\n",
    "\n",
    "    def __repr__(self):\n",
    "        keys=sorted(self.__dict__)\n",
    "        items=(\"{}={!r}\".format(k,self.__dict__[k]) for k in keys)\n",
    "        return \"{}({})\".format(type(self).__name__,\", \".join(items))\n",
    "\n",
    "    def __eq__(self,other):\n",
    "        return self.__dict__ == other.__dict__\n",
    "\n",
    "    def create_from_response(response):\n",
    "        return response.json(object_hook=lambda d: ApiObject(**d))\n",
    "\n",
    "    def print(self):\n",
    "        pprint.pprint(self.__dict__)\n",
    "\n",
    "    def get(self,key):\n",
    "        return self.__dict__[key]\n",
    "\n",
    "    def __getattr__(self,name):\n",
    "        return self.get(name)"
   ]
  },
  {
   "cell_type": "code",
   "execution_count": 2,
   "id": "c06c17a1-77a9-4817-878a-41498bf26941",
   "metadata": {},
   "outputs": [
    {
     "name": "stdout",
     "output_type": "stream",
     "text": [
      "'User authentication/authorization is only supported when running over HTTPS.'\n"
     ]
    }
   ],
   "source": [
    "import requests\n",
    "\n",
    "HOST=\"100.124.54.98\"\n",
    "PORT=49986\n",
    "NIFI_EP=\"http://%s:%d/nifi-api\"%(HOST,PORT)\n",
    "\n",
    "response=requests.get(\"%s/access\"%(NIFI_EP))\n",
    "\n",
    "pprint.pprint(response.text)\n",
    "                      "
   ]
  },
  {
   "cell_type": "code",
   "execution_count": 3,
   "id": "5ab31ed2-2ac0-4e97-aee6-361d32d916b1",
   "metadata": {},
   "outputs": [
    {
     "name": "stdout",
     "output_type": "stream",
     "text": [
      "{'cluster': {'generated': '13:50:38 UTC',\n",
      "             'nodes': [{'activeThreadCount': 0,\n",
      "                        'address': 'd02c6cfe8e97',\n",
      "                        'apiPort': 8080,\n",
      "                        'events': [{'category': 'INFO',\n",
      "                                    'message': 'Received first heartbeat from '\n",
      "                                               'connecting node. Node '\n",
      "                                               'connected.',\n",
      "                                    'timestamp': '06/27/2023 18:38:44 UTC'},\n",
      "                                   {'category': 'INFO',\n",
      "                                    'message': 'Connection requested from '\n",
      "                                               'existing node. Setting status '\n",
      "                                               'to connecting.',\n",
      "                                    'timestamp': '06/27/2023 18:38:41 UTC'}],\n",
      "                        'heartbeat': '06/29/2023 13:50:36 UTC',\n",
      "                        'nodeId': 'e216943a-122a-4469-abac-46ac155d93a4',\n",
      "                        'nodeStartTime': '06/27/2023 18:37:22 UTC',\n",
      "                        'queued': '1 / 17 bytes',\n",
      "                        'roles': [],\n",
      "                        'status': 'CONNECTED'},\n",
      "                       {'activeThreadCount': 0,\n",
      "                        'address': 'f932f0c6c0fd',\n",
      "                        'apiPort': 8080,\n",
      "                        'events': [{'category': 'INFO',\n",
      "                                    'message': 'Received first heartbeat from '\n",
      "                                               'connecting node. Node '\n",
      "                                               'connected.',\n",
      "                                    'timestamp': '06/27/2023 18:38:44 UTC'},\n",
      "                                   {'category': 'INFO',\n",
      "                                    'message': 'Connection requested from '\n",
      "                                               'existing node. Setting status '\n",
      "                                               'to connecting.',\n",
      "                                    'timestamp': '06/27/2023 18:38:40 UTC'}],\n",
      "                        'heartbeat': '06/29/2023 13:50:37 UTC',\n",
      "                        'nodeId': 'a64063a7-ccb9-48ad-88b0-d2d197e81848',\n",
      "                        'nodeStartTime': '06/27/2023 18:37:23 UTC',\n",
      "                        'queued': '1 / 17 bytes',\n",
      "                        'roles': [],\n",
      "                        'status': 'CONNECTED'},\n",
      "                       {'activeThreadCount': 0,\n",
      "                        'address': '8d3faea1fb31',\n",
      "                        'apiPort': 8080,\n",
      "                        'events': [{'category': 'INFO',\n",
      "                                    'message': 'Received first heartbeat from '\n",
      "                                               'connecting node. Node '\n",
      "                                               'connected.',\n",
      "                                    'timestamp': '06/27/2023 18:38:44 UTC'},\n",
      "                                   {'category': 'INFO',\n",
      "                                    'message': 'Connection requested from '\n",
      "                                               'existing node. Setting status '\n",
      "                                               'to connecting.',\n",
      "                                    'timestamp': '06/27/2023 18:38:40 UTC'}],\n",
      "                        'heartbeat': '06/29/2023 13:50:35 UTC',\n",
      "                        'nodeId': '4ddb792a-5e8d-461a-b35e-a5e686c20859',\n",
      "                        'nodeStartTime': '06/27/2023 18:37:21 UTC',\n",
      "                        'queued': '1 / 17 bytes',\n",
      "                        'roles': ['Primary Node', 'Cluster Coordinator'],\n",
      "                        'status': 'CONNECTED'}]}}\n"
     ]
    }
   ],
   "source": [
    "response=requests.get(\"%s/controller/cluster\"%(NIFI_EP))\n",
    "pprint.pprint(response.json())\n"
   ]
  },
  {
   "cell_type": "code",
   "execution_count": 4,
   "id": "d995e009-8358-4ce2-a35d-bf8d68ae5b5b",
   "metadata": {},
   "outputs": [
    {
     "name": "stdout",
     "output_type": "stream",
     "text": [
      "{'history': {'actions': [{'action': {'actionDetails': {'name': 'hello',\n",
      "                                                       'previousValue': 'world',\n",
      "                                                       'value': 'steve'},\n",
      "                                     'componentDetails': {'type': 'GenerateFlowFile'},\n",
      "                                     'id': 10,\n",
      "                                     'operation': 'Configure',\n",
      "                                     'sourceId': '06ecaade-0189-1000-ffff-fffff5589410',\n",
      "                                     'sourceName': 'fred',\n",
      "                                     'sourceType': 'Processor',\n",
      "                                     'timestamp': '06/29/2023 13:19:52 UTC',\n",
      "                                     'userIdentity': 'anonymous'},\n",
      "                          'canRead': True,\n",
      "                          'id': 10,\n",
      "                          'sourceId': '06ecaade-0189-1000-ffff-fffff5589410',\n",
      "                          'timestamp': '06/29/2023 13:19:52 UTC'}],\n",
      "             'lastRefreshed': '13:50:38 UTC',\n",
      "             'total': 10}}\n"
     ]
    }
   ],
   "source": [
    "EP=\"history\"\n",
    "query={\"offset\":0,\"count\":1}\n",
    "response=requests.get(\"%s/flow/%s\"%(NIFI_EP,EP),params=query)\n",
    "if response.ok :\n",
    "    pprint.pprint(response.json())\n",
    "else:\n",
    "    print(response.status_code,response.text)\n",
    "    print(response.request.url)"
   ]
  },
  {
   "cell_type": "code",
   "execution_count": 5,
   "id": "bf9c947e-e3e1-46e0-99ba-ee8e234a53fc",
   "metadata": {},
   "outputs": [
    {
     "name": "stdout",
     "output_type": "stream",
     "text": [
      "{'searchResultsDTO': {'connectionResults': [{'groupId': 'fe2564d6-0188-1000-8c26-92e2e002639c',\n",
      "                                             'id': '073e7cd4-0189-1000-0000-00005e8f702f',\n",
      "                                             'matches': ['Source name: fred'],\n",
      "                                             'name': 'success',\n",
      "                                             'parentGroup': {'id': 'fe2564d6-0188-1000-8c26-92e2e002639c',\n",
      "                                                             'name': 'NiFi '\n",
      "                                                                     'Flow'}}],\n",
      "                      'controllerServiceNodeResults': [],\n",
      "                      'funnelResults': [],\n",
      "                      'inputPortResults': [],\n",
      "                      'labelResults': [],\n",
      "                      'outputPortResults': [],\n",
      "                      'parameterContextResults': [],\n",
      "                      'parameterProviderNodeResults': [],\n",
      "                      'parameterResults': [],\n",
      "                      'processGroupResults': [],\n",
      "                      'processorResults': [{'groupId': 'fe2564d6-0188-1000-8c26-92e2e002639c',\n",
      "                                            'id': '06ecaade-0189-1000-ffff-fffff5589410',\n",
      "                                            'matches': ['Name: fred'],\n",
      "                                            'name': 'fred',\n",
      "                                            'parentGroup': {'id': 'fe2564d6-0188-1000-8c26-92e2e002639c',\n",
      "                                                            'name': 'NiFi '\n",
      "                                                                    'Flow'}}],\n",
      "                      'remoteProcessGroupResults': []}}\n",
      "{'groupId': 'fe2564d6-0188-1000-8c26-92e2e002639c',\n",
      " 'id': '06ecaade-0189-1000-ffff-fffff5589410',\n",
      " 'matches': ['Name: fred'],\n",
      " 'name': 'fred',\n",
      " 'parentGroup': ApiObject(id='fe2564d6-0188-1000-8c26-92e2e002639c', name='NiFi Flow')}\n"
     ]
    }
   ],
   "source": [
    "EP=\"search-results\"\n",
    "query={\"q\":\"fred\",\"a\":\"\"}\n",
    "response=requests.get(\"%s/flow/%s\"%(NIFI_EP,EP),params=query)\n",
    "if response.ok :\n",
    "    pprint.pprint(response.json())\n",
    "else:\n",
    "    raise Exception(response.status_code,response.text)\n",
    "\n",
    "search_result=ApiObject.create_from_response(response)\n",
    "processor=search_result.searchResultsDTO.processorResults[0]\n",
    "pprint.pprint(processor.__dict__)"
   ]
  },
  {
   "cell_type": "code",
   "execution_count": 23,
   "id": "37bdc8e7-04f7-4061-ae7e-36efe86d7e0c",
   "metadata": {},
   "outputs": [
    {
     "ename": "SyntaxError",
     "evalue": "invalid syntax (1962553722.py, line 18)",
     "output_type": "error",
     "traceback": [
      "\u001b[0;36m  Cell \u001b[0;32mIn[23], line 18\u001b[0;36m\u001b[0m\n\u001b[0;31m    print(\"Mime Type: \",props.\"mime-type\")\u001b[0m\n\u001b[0m                              ^\u001b[0m\n\u001b[0;31mSyntaxError\u001b[0m\u001b[0;31m:\u001b[0m invalid syntax\n"
     ]
    }
   ],
   "source": [
    "EP=\"processors\"\n",
    "response=requests.get(\"%s/%s/%s\"%(NIFI_EP,EP,processor.id))\n",
    "\n",
    "if response.ok :\n",
    "    print(response.status_code)\n",
    "    p=ApiObject.create_from_response(response)\n",
    "else:\n",
    "    raise Exception(response.status_code,response.text)\n",
    "\n",
    "#pprint.pprint(p.status.__dict__)\n",
    "\n",
    "print(p.component.name,p.component.type)\n",
    "props=p.component.config.properties\n",
    "props.print()\n",
    "print(\"Payload: \",props.get('generate-ff-custom-text'))\n",
    "print(\"Mime Type: \",props.get('mime-type'))\n",
    "print(\"Hello: \",props.hello)"
   ]
  },
  {
   "cell_type": "code",
   "execution_count": null,
   "id": "a9f20e05-8363-4c50-a58d-585f8ddcdb27",
   "metadata": {},
   "outputs": [],
   "source": []
  }
 ],
 "metadata": {
  "kernelspec": {
   "display_name": "Python 3 (ipykernel)",
   "language": "python",
   "name": "python3"
  },
  "language_info": {
   "codemirror_mode": {
    "name": "ipython",
    "version": 3
   },
   "file_extension": ".py",
   "mimetype": "text/x-python",
   "name": "python",
   "nbconvert_exporter": "python",
   "pygments_lexer": "ipython3",
   "version": "3.11.4"
  }
 },
 "nbformat": 4,
 "nbformat_minor": 5
}
